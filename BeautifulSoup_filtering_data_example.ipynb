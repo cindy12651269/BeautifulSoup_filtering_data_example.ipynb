{
  "nbformat": 4,
  "nbformat_minor": 0,
  "metadata": {
    "colab": {
      "provenance": [],
      "authorship_tag": "ABX9TyMxd9brl2hc+In19FokbFMn",
      "include_colab_link": true
    },
    "kernelspec": {
      "name": "python3",
      "display_name": "Python 3"
    },
    "language_info": {
      "name": "python"
    }
  },
  "cells": [
    {
      "cell_type": "markdown",
      "metadata": {
        "id": "view-in-github",
        "colab_type": "text"
      },
      "source": [
        "<a href=\"https://colab.research.google.com/github/cindy12651269/BeautifulSoup_filtering_data_example.ipynb/blob/cindy12651269%2Fhw1/BeautifulSoup_filtering_data_example.ipynb\" target=\"_parent\"><img src=\"https://colab.research.google.com/assets/colab-badge.svg\" alt=\"Open In Colab\"/></a>"
      ]
    },
    {
      "cell_type": "code",
      "execution_count": 21,
      "metadata": {
        "colab": {
          "base_uri": "https://localhost:8080/"
        },
        "id": "tLtjFgi8hyI2",
        "outputId": "c5f014b4-68d3-47ea-d657-b8587a5680ad"
      },
      "outputs": [
        {
          "output_type": "stream",
          "name": "stdout",
          "text": [
            "            幣別     現金買入     現金賣出    即期買入    即期賣出\n",
            "0     美金 (USD)   32.095   32.765   32.42   32.57\n",
            "1     港幣 (HKD)    4.004    4.208   4.125   4.195\n",
            "2     英鎊 (GBP)    40.46    42.58  41.355  41.985\n",
            "3     澳幣 (AUD)    21.51    22.29  21.725   22.07\n",
            "4   加拿大幣 (CAD)    23.34    24.25   23.67      24\n",
            "5   新加坡幣 (SGD)     23.5    24.41   23.97   24.19\n",
            "6   瑞士法郎 (CHF)    35.43    36.63   36.04   36.43\n",
            "7     日圓 (JPY)   0.1928   0.2056  0.1996  0.2046\n",
            "8    南非幣 (ZAR)        -        -   1.746   1.836\n",
            "9    瑞典幣 (SEK)     2.71     3.23    3.04    3.16\n",
            "10    紐元 (NZD)    19.45     20.3   19.78   20.08\n",
            "11    泰幣 (THB)    0.763    0.953  0.8734  0.9194\n",
            "12  菲國比索 (PHP)   0.4892   0.6212       -       -\n",
            "13   印尼幣 (IDR)  0.00158  0.00228       -       -\n",
            "14    歐元 (EUR)    34.37    35.71  34.885  35.485\n",
            "15    韓元 (KRW)  0.02175  0.02565       -       -\n",
            "16   越南盾 (VND)  0.00103  0.00144       -       -\n",
            "17   馬來幣 (MYR)    5.875      7.4       -       -\n",
            "18   人民幣 (CNY)    4.363    4.525    4.43    4.49\n"
          ]
        }
      ],
      "source": [
        "import requests\n",
        "from bs4 import BeautifulSoup\n",
        "import pandas as pd\n",
        "\n",
        "\n",
        "url = 'https://rate.bot.com.tw/xrt?Lang=zh-TW'\n",
        "\n",
        "r = requests.get(url)\n",
        "\n",
        "# Parse the HTML content using BeautifulSoup with html5lib parser\n",
        "soup = BeautifulSoup(r.text, 'html5lib')\n",
        "\n",
        "# Find all the currency names\n",
        "currency = soup.find_all('div',class_=\"visible-phone print_hide\")\n",
        "\n",
        "# Find all the cash buy rates\n",
        "cash_buy_rate = soup.find_all('td', class_=\"rate-content-cash text-right print_hide\",attrs={'data-table':'本行現金買入'})\n",
        "\n",
        "# Find all the cash sell rates\n",
        "cash_sell_rate = soup.find_all('td', class_='rate-content-cash text-right print_hide', attrs={'data-table': '本行現金賣出'})\n",
        "\n",
        "# Find all the sight buy rates\n",
        "# Updated selector to correctly target sight buy rates\n",
        "sight_buy_rate = soup.find_all('td', class_='rate-content-sight text-right print_hide', attrs={'data-table':'本行即期買入'})\n",
        "\n",
        "# Find all the sight sell rates\n",
        "# Updated selector to correctly target sight sell rates\n",
        "sight_sell_rate = soup.find_all('td', class_='rate-content-sight text-right print_hide', attrs={'data-table':'本行即期賣出'})\n",
        "\n",
        "# Initialize an empty list to store the data\n",
        "list=[]\n",
        "\n",
        "for i in range(len(currency)):\n",
        "#strip any whitespace characters in currency_names, cash_buy, cash_sell, sight_buy, and sight_sell\n",
        "    currency_name = currency[i].text.strip()\n",
        "    cash_buy = cash_buy_rate[i].text.strip()\n",
        "    cash_sell = cash_sell_rate[i].text.strip()\n",
        "    sight_buy = sight_buy_rate[i].text.strip()\n",
        "    sight_sell = sight_sell_rate[i].text.strip()\n",
        "\n",
        "    # Append the extracted data to the list\n",
        "    list.append([currency_name, cash_buy, cash_sell, sight_buy, sight_sell])\n",
        "\n",
        "# Create a DataFrame from the list with the specified column names\n",
        "df = pd.DataFrame(list, columns=['幣別', '現金買入', '現金賣出', '即期買入', '即期賣出'])\n",
        "\n",
        "print(df)\n"
      ]
    }
  ]
}